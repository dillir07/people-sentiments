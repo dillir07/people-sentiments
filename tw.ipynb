{
 "metadata": {
  "language_info": {
   "codemirror_mode": {
    "name": "ipython",
    "version": 3
   },
   "file_extension": ".py",
   "mimetype": "text/x-python",
   "name": "python",
   "nbconvert_exporter": "python",
   "pygments_lexer": "ipython3",
   "version": "3.9.2-final"
  },
  "orig_nbformat": 2,
  "kernelspec": {
   "name": "python3",
   "display_name": "Python 3",
   "language": "python"
  }
 },
 "nbformat": 4,
 "nbformat_minor": 2,
 "cells": [
  {
   "cell_type": "code",
   "execution_count": 14,
   "metadata": {},
   "outputs": [],
   "source": [
    "import os\n",
    "import tweepy\n",
    "import nltk\n",
    "import re\n",
    "from nltk import word_tokenize, sent_tokenize\n",
    "from nltk.corpus import stopwords\n",
    "from nltk.stem import PorterStemmer\n",
    "from textblob import TextBlob\n",
    "from pprint import pprint as pp"
   ]
  },
  {
   "cell_type": "code",
   "execution_count": 2,
   "metadata": {},
   "outputs": [],
   "source": [
    "TWITTER_API_KEY = os.environ[\"TWITTER_API_KEY\"]\n",
    "TWITTER_API_SECRET = os.environ[\"TWITTER_API_SECRET\"]\n",
    "TWITTER_ACCESS_TOKEN = os.environ[\"TWITTER_ACCESS_TOKEN\"]\n",
    "TWITTER_ACCESS_TOKEN_SECRET = os.environ[\"TWITTER_ACCESS_TOKEN_SECRET\"]"
   ]
  },
  {
   "cell_type": "code",
   "execution_count": 3,
   "metadata": {},
   "outputs": [],
   "source": [
    "auth = tweepy.OAuthHandler(TWITTER_API_KEY, TWITTER_API_SECRET)\n",
    "auth.set_access_token(TWITTER_ACCESS_TOKEN, TWITTER_ACCESS_TOKEN_SECRET)\n",
    "api = tweepy.API(auth)"
   ]
  },
  {
   "cell_type": "code",
   "execution_count": 9,
   "metadata": {},
   "outputs": [],
   "source": [
    "stmr = PorterStemmer()\n",
    "stop_words = stopwords.words(\"english\")"
   ]
  },
  {
   "cell_type": "code",
   "execution_count": 45,
   "metadata": {},
   "outputs": [],
   "source": [
    "# regex patterns\n",
    "url_pattern = re.compile(r\"https://[\\w\\d./]*\")\n",
    "emoji_code_pattern = re.compile(r\"\\\\u[\\w\\d]*\")\n",
    "mentions_pattern = re.compile(r\"@[\\w\\d]*\")\n",
    "hashtags_pattern = re.compile(r\"#[\\w\\d]*\")\n",
    "other_pattern = re.compile(r\"[🤷♀️]\")"
   ]
  },
  {
   "cell_type": "code",
   "execution_count": 46,
   "metadata": {},
   "outputs": [],
   "source": [
    "def deEmojify(text):\n",
    "    regrex_pattern = re.compile(pattern = \"[\"\n",
    "        u\"\\U0001F600-\\U0001F64F\"  # emoticons\n",
    "        u\"\\U0001F300-\\U0001F5FF\"  # symbols & pictographs\n",
    "        u\"\\U0001F680-\\U0001F6FF\"  # transport & map symbols\n",
    "        u\"\\U0001F1E0-\\U0001F1FF\"  # flags (iOS)\n",
    "                           \"]+\", flags = re.UNICODE)\n",
    "    return regrex_pattern.sub(r'',text)"
   ]
  },
  {
   "cell_type": "code",
   "execution_count": 50,
   "metadata": {},
   "outputs": [],
   "source": [
    "def get_sentiment_for_texts(texts: list):\n",
    "    print('processing ', len(texts), ' items')\n",
    "    res = []\n",
    "    for text in texts:\n",
    "        tweet_data = {\"original\": text}\n",
    "        # * here we are doing the following\n",
    "        # * * converting to lower case\n",
    "        # * * applying stem operation to convert running to run etc.\n",
    "        # * * excluding stop words (common words) such as the, I , a, an etc.\n",
    "        _ = \" \".join(\n",
    "            [stmr.stem(word.lower()) for word in text.split() if word not in stop_words]\n",
    "        )\n",
    "        _ = re.sub(url_pattern,\"\",_)\n",
    "        _ = re.sub(emoji_code_pattern,\"\",_)\n",
    "        _ = re.sub(mentions_pattern,\"\",_)\n",
    "        _ = re.sub(hashtags_pattern,\"\",_)\n",
    "        _ = re.sub(other_pattern,\"\",_)\n",
    "        tweet_data[\"_\"] = deEmojify(_)\n",
    "        tweet_data[\"sentiment\"] = TextBlob(text).sentiment\n",
    "        res.append(tweet_data)\n",
    "\n",
    "    # * we could try doing all of these using comprehensions\n",
    "    # * but would become hard to understand and maintain.\n",
    "    # texts = [text.lower() for text in texts]\n",
    "    # texts = [[stmr.stem(word) for word in text if word not in stop_words] for text in texts]\n",
    "\n",
    "    return res"
   ]
  },
  {
   "cell_type": "code",
   "execution_count": 51,
   "metadata": {},
   "outputs": [],
   "source": [
    "def get_tweets(query, count=300, lang=\"en\"):\n",
    "\n",
    "    # empty list to store parsed tweets\n",
    "    tweets = []\n",
    "    fetched_tweets = api.search(query, count=count, lang=lang, result_type=\"recent\")\n",
    "    # parsing tweets one by one\n",
    "    for tweet in fetched_tweets:\n",
    "        tweets.append(tweet.text)\n",
    "    o = get_sentiment_for_texts(tweets)\n",
    "    return o"
   ]
  },
  {
   "cell_type": "code",
   "execution_count": 57,
   "metadata": {
    "tags": []
   },
   "outputs": [
    {
     "output_type": "stream",
     "name": "stdout",
     "text": [
      "processing  30  items\n[{'_': 'how mani movi fan go want wonder woman kill joker talk masturb batman? '\n       'how… ',\n  'original': 'How many more movies are fans going to want where Wonder Woman '\n              'kills and joker talks about masturbating Batman? How… '\n              'https://t.co/3iauWVH5sD',\n  'sentiment': Sentiment(polarity=0.5, subjectivity=0.5)},\n {'_': 'batman kick ass ',\n  'original': 'batman kicking ass 😫',\n  'sentiment': Sentiment(polarity=0.0, subjectivity=0.0)},\n {'_': ' you look familiar🤔',\n  'original': '@60s_Batman You look familiar🤔',\n  'sentiment': Sentiment(polarity=0.0, subjectivity=0.0)},\n {'_': 'new video up! reaction ch 1  “don’t count on it .”  dead. mother… ',\n  'original': 'New video up! Reaction to Ch 1 of #ZackSnydersJusticeLeague   '\n              '“Don’t Count On It #Batman.” #Superman  dead. Mother… '\n              'https://t.co/CKUbHQWwGq',\n  'sentiment': Sentiment(polarity=-0.014772727272727285, subjectivity=0.42727272727272725)},\n {'_': '   the whole multivers thing liter appli new superman, robert pa… ',\n  'original': '@mattbo_0 @CWEarthPrime @Variety The whole multiverse thing '\n              'literally only applies to their new Superman, Robert Pa… '\n              'https://t.co/GNYYrzTpXr',\n  'sentiment': Sentiment(polarity=0.11212121212121212, subjectivity=0.6181818181818182)},\n {'_': ' wolverin easili unless know “batman prep!!” sad lmao',\n  'original': '@Streetsdiscipl2 Wolverine easily unless you know “Batman has '\n              'prep!!” Sad lmao',\n  'sentiment': Sentiment(polarity=0.2590277777777778, subjectivity=0.9444444444444445)},\n {'_': 'i haven’t seen anyon say i’ll say it... they batman say corni shit '\n       'movi',\n  'original': 'I haven’t seen anyone say it so I’ll say it... They had Batman '\n              'saying some CORNY shit in that movie',\n  'sentiment': Sentiment(polarity=-0.2, subjectivity=0.8)},\n {'_': 'the flash: wait super power again? batman: i’m rich ',\n  'original': 'The Flash: Wait what are your super powers again?\\n'\n              '\\n'\n              'Batman: I’m rich https://t.co/ScmYKoLi3Y',\n  'sentiment': Sentiment(polarity=0.35416666666666663, subjectivity=0.7083333333333333)},\n {'_': 'batman stab peopl face frozen fetus. like thu us joke i type i like \"i '\n       'me… ',\n  'original': 'Batman should stab people in the face with a frozen fetus. \\n'\n              '\\n'\n              'Like thus us a joke but as I typed it I was like \"I me… '\n              'https://t.co/hRmQiOh3Ak',\n  'sentiment': Sentiment(polarity=0.0, subjectivity=0.0)},\n {'_': 'red hood origin wise one best written hero n way interest batman',\n  'original': 'Red hood origin wise is one of the best written heroes n is way '\n              'more interesting than Batman',\n  'sentiment': Sentiment(polarity=0.54, subjectivity=0.44000000000000006)},\n {'_': ' after see badass batman snyder cut, amaz wb montreal audac t… ',\n  'original': '@PodcastNow15 After seeing how badass Batman was in the Snyder '\n              'cut, it amazes me how Wb Montreal has the audacity t… '\n              'https://t.co/QqUEfevlkD',\n  'sentiment': Sentiment(polarity=0.0, subjectivity=0.0)},\n {'_': ' for two differ batman’s, afflack definit frank miller batman . bale '\n       'base grant morrison’ book.',\n  'original': '@JohnnyHSD For me its two different Batman’s, Afflack is '\n              'definitely Frank Miller Batman . Bale is based on Grant '\n              'Morrison’s book.',\n  'sentiment': Sentiment(polarity=0.0, subjectivity=0.55)},\n {'_': 'care war joke batman clear deathstrok deadshot time? yeah',\n  'original': \"i don't care about war of jokes but batman clearing both \"\n              'deathstroke and deadshot at the same time? yeah',\n  'sentiment': Sentiment(polarity=0.0, subjectivity=0.125)},\n {'_': ' i’ll sit littl bit i’m gonna get comfi caus still got rob’ batman '\n       'coming. hmph.',\n  'original': '@OlDirtyDennis I’ll sit for a little bit but I’m not gonna get '\n              'comfy cause we still got Rob’s Batman coming. Hmph.',\n  'sentiment': Sentiment(polarity=-0.1875, subjectivity=0.5)},\n {'_': ' i see... 0 love clooney batman... ',\n  'original': '@DanDDoes I see... 0 love for the Clooney Batman... \\n\\n😉😜',\n  'sentiment': Sentiment(polarity=0.5, subjectivity=0.6)},\n {'_': \" if you'r mean batman shouldn't kill parademon gun how think it,talk \"\n       'to… ',\n  'original': \"@DanSlott If You're Meaning Batman Shouldn't Kill Parademon \"\n              'with guns then How do you think he should do it,Talk to… '\n              'https://t.co/3zot8FlRCK',\n  'sentiment': Sentiment(polarity=0.0, subjectivity=0.0)},\n {'_': ' whi everyth keep come batman!? ',\n  'original': '@BillyCorben Why does everything keep coming up Batman!? '\n              'https://t.co/Jljoavwqmq',\n  'sentiment': Sentiment(polarity=0.0, subjectivity=0.0)},\n {'_': ' .... funni  version   🤩   … ',\n  'original': '@iSpaceCrypto here it is .... a funny #Psychopunk version of '\n              '#batman and #stanlee 🤩 #NFTs #nftart #NFTartist… '\n              'https://t.co/TNGZSzgd3X',\n  'sentiment': Sentiment(polarity=0.25, subjectivity=1.0)},\n {'_': \" after , peopl want ben affleck'  cut him.. th… \",\n  'original': '@DavidAyerMovies After #ZackSnydersJusticeLeague, people wants '\n              \"more Ben Affleck's #Batman and your cut has him.. th… \"\n              'https://t.co/3Vhtj3S9Qb',\n  'sentiment': Sentiment(polarity=0.35, subjectivity=0.3)},\n {'_': ' she mask on. i know lee meriwether!',\n  'original': \"@60s_Batman She had her mask on. I didn't know it was Lee \"\n              'Meriwether!',\n  'sentiment': Sentiment(polarity=0.0, subjectivity=0.0)},\n {'_': 'batman worn middl age man lol. just bit help lil way. hi function to… ',\n  'original': 'Batman is just a worn out middle aged man in this lol. Just a '\n              'bit of help  and a lil in the way. His function is to… '\n              'https://t.co/bJQUw7QDRU',\n  'sentiment': Sentiment(polarity=0.23333333333333336, subjectivity=0.3666666666666667)},\n {'_': 'bale best realist batman affleck best comic-accur batman ',\n  'original': 'Bale is the best realistic Batman\\n'\n              'Affleck is the best comic-accurate Batman '\n              'https://t.co/iRM0ehx0ZG',\n  'sentiment': Sentiment(polarity=0.7222222222222223, subjectivity=0.3111111111111111)},\n {'_': 'it’ go either batman decant ',\n  'original': 'It’s going to be either this or the Batman decanter '\n              'https://t.co/xNkQxqrF8F',\n  'sentiment': Sentiment(polarity=0.0, subjectivity=0.0)},\n {'_': 'joker 🃏     ',\n  'original': 'Joker 🃏\\n'\n              '\\n'\n              '#DarkKnight #joker #HeathLedger #Batman https://t.co/MQ0FG6Eqt3',\n  'sentiment': Sentiment(polarity=0.0, subjectivity=0.0)},\n {'_': ' i realli love set injustic storylin end dream sequenc .. yeah '\n       'deathstro… ',\n  'original': '@KazzyReacts I really loved how they set up the Injustice '\n              'storyline in the end dream sequence .. and yeah Deathstro… '\n              'https://t.co/thIZMkZP4d',\n  'sentiment': Sentiment(polarity=0.7, subjectivity=0.8)},\n {'_': '.dirti real tire , alien you? batman star world lord alien , day! '\n       'armagedon save black iron zone the pirates… ',\n  'original': '.Dirty real tired , alien you? Batman Star World Lord Alien , '\n              'Day! Armagedon Saving Black Iron Zone of  The Pirates… '\n              'https://t.co/fTIMStvBpi',\n  'sentiment': Sentiment(polarity=-0.3322916666666667, subjectivity=0.7333333333333334)},\n {'_': \" they'r different. bale choic cinema enthusiast affleck portray better \"\n       'comic b… ',\n  'original': \"@beingsaud27 They're different. Bale is the choice for cinema \"\n              'enthusiasts while Affleck portrays better the comic b… '\n              'https://t.co/IojvrbG8GC',\n  'sentiment': Sentiment(polarity=0.25, subjectivity=0.5333333333333333)},\n {'_': '  i alway found red hood stori intrigu bc make sens ch… ',\n  'original': '@ojdacoochieman @SAINTISGONE I always found the red hood story '\n              'more intriguing just bc it all makes sense from a ch… '\n              'https://t.co/Vk6yhnfzrM',\n  'sentiment': Sentiment(polarity=0.26666666666666666, subjectivity=0.3)},\n {'_': 'ben affleck great bruce wayn real bad batman.',\n  'original': 'Ben Affleck is a great Bruce Wayne but a real bad Batman.',\n  'sentiment': Sentiment(polarity=-0.09999999999999998, subjectivity=0.875)},\n {'_': 'some insan part  (5/5) the joker batman’ convers batman,… ',\n  'original': 'Some of the most insane parts of #ZackSnydersJusticeLeague '\n              '(5/5)\\n'\n              'The Joker and Batman’s conversation about Batman,… '\n              'https://t.co/Yv2jPYjaH6',\n  'sentiment': Sentiment(polarity=-0.25, subjectivity=0.75)}]\n"
     ]
    }
   ],
   "source": [
    "pp(get_tweets(query=\"batman -rt\", count=30, lang=\"en\"))"
   ]
  }
 ]
}