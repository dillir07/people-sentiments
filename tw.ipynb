{
 "metadata": {
  "language_info": {
   "codemirror_mode": {
    "name": "ipython",
    "version": 3
   },
   "file_extension": ".py",
   "mimetype": "text/x-python",
   "name": "python",
   "nbconvert_exporter": "python",
   "pygments_lexer": "ipython3",
   "version": "3.9.2-final"
  },
  "orig_nbformat": 2,
  "kernelspec": {
   "name": "python3",
   "display_name": "Python 3",
   "language": "python"
  }
 },
 "nbformat": 4,
 "nbformat_minor": 2,
 "cells": [
  {
   "cell_type": "code",
   "execution_count": 4,
   "metadata": {},
   "outputs": [],
   "source": [
    "import os\n",
    "from pprint import pprint as pp"
   ]
  },
  {
   "cell_type": "code",
   "execution_count": 5,
   "metadata": {},
   "outputs": [],
   "source": [
    "TWITTER_API_KEY = os.environ[\"TWITTER_API_KEY\"]\n",
    "TWITTER_API_SECRET = os.environ[\"TWITTER_API_SECRET\"]\n",
    "TWITTER_ACCESS_TOKEN = os.environ[\"TWITTER_ACCESS_TOKEN\"]\n",
    "TWITTER_ACCESS_TOKEN_SECRET = os.environ[\"TWITTER_ACCESS_TOKEN_SECRET\"]"
   ]
  },
  {
   "cell_type": "code",
   "execution_count": 6,
   "metadata": {},
   "outputs": [],
   "source": [
    "import tweepy"
   ]
  },
  {
   "cell_type": "code",
   "execution_count": 7,
   "metadata": {},
   "outputs": [
    {
     "output_type": "execute_result",
     "data": {
      "text/plain": [
       "<tweepy.auth.OAuthHandler at 0x7fcf0c68dac0>"
      ]
     },
     "metadata": {},
     "execution_count": 7
    }
   ],
   "source": [
    "auth = tweepy.OAuthHandler(TWITTER_API_KEY, TWITTER_API_SECRET)\n",
    "auth"
   ]
  },
  {
   "cell_type": "code",
   "execution_count": 8,
   "metadata": {},
   "outputs": [
    {
     "output_type": "execute_result",
     "data": {
      "text/plain": [
       "<tweepy.auth.OAuthHandler at 0x7fcf0c68dac0>"
      ]
     },
     "metadata": {},
     "execution_count": 8
    }
   ],
   "source": [
    "auth.set_access_token(TWITTER_ACCESS_TOKEN, TWITTER_ACCESS_TOKEN_SECRET)\n",
    "auth"
   ]
  },
  {
   "cell_type": "code",
   "execution_count": 9,
   "metadata": {},
   "outputs": [
    {
     "output_type": "execute_result",
     "data": {
      "text/plain": [
       "<tweepy.auth.OAuthHandler at 0x7fcf0c68dac0>"
      ]
     },
     "metadata": {},
     "execution_count": 9
    }
   ],
   "source": [
    "api = tweepy.API(auth)\n",
    "auth"
   ]
  },
  {
   "cell_type": "code",
   "execution_count": 10,
   "metadata": {},
   "outputs": [],
   "source": [
    "timeline = api.home_timeline()"
   ]
  },
  {
   "cell_type": "code",
   "execution_count": 11,
   "metadata": {},
   "outputs": [
    {
     "output_type": "stream",
     "name": "stdout",
     "text": [
      "High school diploma ✅\nCollege diploma ✅\nCareer ✅\nDriver’s license 🤔\n\nI passed my permit test this morning so✨woo pr… https://t.co/rywZzegteK\nWhat if we had something to stand up for our data rights the way a trade union stands up for labor rights?… https://t.co/hmaPxBOHYT\nAn extensive document, which highlights BJP’s vision for Tamil Nadu’s progress, empowering the poor and celebrating… https://t.co/iwmS2JnJ1I\nAnyone can learn to code. It's way harder to come up with good solutions to difficult problems.\n\nStop obsessing abo… https://t.co/vMtDVA6dlk\nThank you Goa for the continuous support to BJP. The results of the Municipal Elections 2021 show the people’s appr… https://t.co/ha0DHznV7I\nshoutout to the committed devops engineer diligently looking after servers in a basement still not aware of COVID\nRT @MSFTDynamics365: Join @JamesMPhillips on April 6 at the #MSBizAppsLaunchEvent. He and other Microsoft leaders will share about new #MSD…\nWyoming: 578,000 residents, 93% white\n\nVermont: 623,000 residents, 94% white\n\nDC: over 712,000 residents, 43% Black… https://t.co/jsyG1Nag9j\n📰 Want to start creating content, but don't know where to start? 📰\nWrite about - \n\n1⃣The last problem you solved.… https://t.co/SUewTPNgrr\nRT @ChloeCondon: git commit -m \"plz work\" https://t.co/UuiJhhPUZm\nJust checking in https://t.co/sAldHhb1pO\n-253 voter suppression bills have been introduced nationwide\n\n-Gerrymandering is reaching more extreme levels\n\n-Bil… https://t.co/1kzNvNPFTr\nRT @techgirl1908: Wisdom.\nMake DC the 51st state.\n30.\n\nAnd now that I'm closer to 40, maybe I'll get my second one soon. https://t.co/k4etbaSVNH\nI will never forget yesterday’s rally in Bankura. \n\nWest Bengal is giving a very clear message- BJP is the state’s… https://t.co/vVKglfhB9o\nFacebook is still the best website to get in contact with 58 year old men I worked with 6 years ago.\nAssam wants the double engine of NDA Governments in the Centre and the state. People are seeing the benefits of it… https://t.co/DeYCQEwK6F\nRT @sclawr: give us the Coogler cut \n\n#CooglerCut\nI'm really enjoying using Obsidian to map my family history going back almost 1000 years. \n\nHere's how I'm Organizi… https://t.co/baErvag6tS\n"
     ]
    }
   ],
   "source": [
    "for tweet in timeline:\n",
    "    print(tweet.text)"
   ]
  },
  {
   "cell_type": "code",
   "execution_count": 12,
   "metadata": {
    "tags": [
     "outputPrepend"
    ]
   },
   "outputs": [
    {
     "output_type": "stream",
     "name": "stdout",
     "text": [
      "alse, 'followers_count': 32, 'friends_count': 88, 'listed_count': 1, 'created_at': 'Sun Jul 28 11:34:21 +0000 2013', 'favourites_count': 753, 'utc_offset': None, 'time_zone': None, 'geo_enabled': True, 'verified': False, 'statuses_count': 150, 'lang': None, 'contributors_enabled': False, 'is_translator': False, 'is_translation_enabled': False, 'profile_background_color': '89C9FA', 'profile_background_image_url': 'http://abs.twimg.com/images/themes/theme16/bg.gif', 'profile_background_image_url_https': 'https://abs.twimg.com/images/themes/theme16/bg.gif', 'profile_background_tile': True, 'profile_image_url': 'http://pbs.twimg.com/profile_images/1357919196089262080/GBi1fIdL_normal.jpg', 'profile_image_url_https': 'https://pbs.twimg.com/profile_images/1357919196089262080/GBi1fIdL_normal.jpg', 'profile_banner_url': 'https://pbs.twimg.com/profile_banners/1627697450/1581185691', 'profile_link_color': '2196F3', 'profile_sidebar_border_color': 'FFFFFF', 'profile_sidebar_fill_color': 'DDEEF6', 'profile_text_color': '333333', 'profile_use_background_image': False, 'has_extended_profile': True, 'default_profile': False, 'default_profile_image': False, 'following': False, 'follow_request_sent': False, 'notifications': False, 'translator_type': 'none'}, 'geo': None, 'coordinates': None, 'place': None, 'contributors': None, 'is_quote_status': False, 'retweet_count': 0, 'favorite_count': 1, 'favorited': False, 'retweeted': False, 'possibly_sensitive': False, 'lang': 'de'}, created_at=datetime.datetime(2021, 2, 27, 15, 19, 36), id=1365683006166298628, id_str='1365683006166298628', text='Microsoft #powerautomate Badges https://t.co/5QjhDyiWtM', truncated=False, entities={'hashtags': [{'text': 'powerautomate', 'indices': [10, 24]}], 'symbols': [], 'user_mentions': [], 'urls': [{'url': 'https://t.co/5QjhDyiWtM', 'expanded_url': 'https://lnkd.in/gUMwfCJ', 'display_url': 'lnkd.in/gUMwfCJ', 'indices': [32, 55]}]}, source='LinkedIn', source_url='http://www.linkedin.com/', in_reply_to_status_id=None, in_reply_to_status_id_str=None, in_reply_to_user_id=None, in_reply_to_user_id_str=None, in_reply_to_screen_name=None, author=User(_api=<tweepy.api.API object at 0x7fcf0c27d340>, _json={'id': 1627697450, 'id_str': '1627697450', 'name': 'dr', 'screen_name': 'dillir07', 'location': 'India', 'description': 'I count from 0', 'url': None, 'entities': {'description': {'urls': []}}, 'protected': False, 'followers_count': 32, 'friends_count': 88, 'listed_count': 1, 'created_at': 'Sun Jul 28 11:34:21 +0000 2013', 'favourites_count': 753, 'utc_offset': None, 'time_zone': None, 'geo_enabled': True, 'verified': False, 'statuses_count': 150, 'lang': None, 'contributors_enabled': False, 'is_translator': False, 'is_translation_enabled': False, 'profile_background_color': '89C9FA', 'profile_background_image_url': 'http://abs.twimg.com/images/themes/theme16/bg.gif', 'profile_background_image_url_https': 'https://abs.twimg.com/images/themes/theme16/bg.gif', 'profile_background_tile': True, 'profile_image_url': 'http://pbs.twimg.com/profile_images/1357919196089262080/GBi1fIdL_normal.jpg', 'profile_image_url_https': 'https://pbs.twimg.com/profile_images/1357919196089262080/GBi1fIdL_normal.jpg', 'profile_banner_url': 'https://pbs.twimg.com/profile_banners/1627697450/1581185691', 'profile_link_color': '2196F3', 'profile_sidebar_border_color': 'FFFFFF', 'profile_sidebar_fill_color': 'DDEEF6', 'profile_text_color': '333333', 'profile_use_background_image': False, 'has_extended_profile': True, 'default_profile': False, 'default_profile_image': False, 'following': False, 'follow_request_sent': False, 'notifications': False, 'translator_type': 'none'}, id=1627697450, id_str='1627697450', name='dr', screen_name='dillir07', location='India', description='I count from 0', url=None, entities={'description': {'urls': []}}, protected=False, followers_count=32, friends_count=88, listed_count=1, created_at=datetime.datetime(2013, 7, 28, 11, 34, 21), favourites_count=753, utc_offset=None, time_zone=None, geo_enabled=True, verified=False, statuses_count=150, lang=None, contributors_enabled=False, is_translator=False, is_translation_enabled=False, profile_background_color='89C9FA', profile_background_image_url='http://abs.twimg.com/images/themes/theme16/bg.gif', profile_background_image_url_https='https://abs.twimg.com/images/themes/theme16/bg.gif', profile_background_tile=True, profile_image_url='http://pbs.twimg.com/profile_images/1357919196089262080/GBi1fIdL_normal.jpg', profile_image_url_https='https://pbs.twimg.com/profile_images/1357919196089262080/GBi1fIdL_normal.jpg', profile_banner_url='https://pbs.twimg.com/profile_banners/1627697450/1581185691', profile_link_color='2196F3', profile_sidebar_border_color='FFFFFF', profile_sidebar_fill_color='DDEEF6', profile_text_color='333333', profile_use_background_image=False, has_extended_profile=True, default_profile=False, default_profile_image=False, following=False, follow_request_sent=False, notifications=False, translator_type='none'), user=User(_api=<tweepy.api.API object at 0x7fcf0c27d340>, _json={'id': 1627697450, 'id_str': '1627697450', 'name': 'dr', 'screen_name': 'dillir07', 'location': 'India', 'description': 'I count from 0', 'url': None, 'entities': {'description': {'urls': []}}, 'protected': False, 'followers_count': 32, 'friends_count': 88, 'listed_count': 1, 'created_at': 'Sun Jul 28 11:34:21 +0000 2013', 'favourites_count': 753, 'utc_offset': None, 'time_zone': None, 'geo_enabled': True, 'verified': False, 'statuses_count': 150, 'lang': None, 'contributors_enabled': False, 'is_translator': False, 'is_translation_enabled': False, 'profile_background_color': '89C9FA', 'profile_background_image_url': 'http://abs.twimg.com/images/themes/theme16/bg.gif', 'profile_background_image_url_https': 'https://abs.twimg.com/images/themes/theme16/bg.gif', 'profile_background_tile': True, 'profile_image_url': 'http://pbs.twimg.com/profile_images/1357919196089262080/GBi1fIdL_normal.jpg', 'profile_image_url_https': 'https://pbs.twimg.com/profile_images/1357919196089262080/GBi1fIdL_normal.jpg', 'profile_banner_url': 'https://pbs.twimg.com/profile_banners/1627697450/1581185691', 'profile_link_color': '2196F3', 'profile_sidebar_border_color': 'FFFFFF', 'profile_sidebar_fill_color': 'DDEEF6', 'profile_text_color': '333333', 'profile_use_background_image': False, 'has_extended_profile': True, 'default_profile': False, 'default_profile_image': False, 'following': False, 'follow_request_sent': False, 'notifications': False, 'translator_type': 'none'}, id=1627697450, id_str='1627697450', name='dr', screen_name='dillir07', location='India', description='I count from 0', url=None, entities={'description': {'urls': []}}, protected=False, followers_count=32, friends_count=88, listed_count=1, created_at=datetime.datetime(2013, 7, 28, 11, 34, 21), favourites_count=753, utc_offset=None, time_zone=None, geo_enabled=True, verified=False, statuses_count=150, lang=None, contributors_enabled=False, is_translator=False, is_translation_enabled=False, profile_background_color='89C9FA', profile_background_image_url='http://abs.twimg.com/images/themes/theme16/bg.gif', profile_background_image_url_https='https://abs.twimg.com/images/themes/theme16/bg.gif', profile_background_tile=True, profile_image_url='http://pbs.twimg.com/profile_images/1357919196089262080/GBi1fIdL_normal.jpg', profile_image_url_https='https://pbs.twimg.com/profile_images/1357919196089262080/GBi1fIdL_normal.jpg', profile_banner_url='https://pbs.twimg.com/profile_banners/1627697450/1581185691', profile_link_color='2196F3', profile_sidebar_border_color='FFFFFF', profile_sidebar_fill_color='DDEEF6', profile_text_color='333333', profile_use_background_image=False, has_extended_profile=True, default_profile=False, default_profile_image=False, following=False, follow_request_sent=False, notifications=False, translator_type='none'), geo=None, coordinates=None, place=None, contributors=None, is_quote_status=False, retweet_count=0, favorite_count=1, favorited=False, retweeted=False, possibly_sensitive=False, lang='de'),\n Status(_api=<tweepy.api.API object at 0x7fcf0c27d340>, _json={'created_at': 'Sat Feb 27 04:45:04 +0000 2021', 'id': 1365523318573395969, 'id_str': '1365523318573395969', 'text': \"@Mysticporo @nixcraft I don't know the original artist. But I found this, says credit: u/vishwasnath https://t.co/Xdujedzhz9\", 'truncated': False, 'entities': {'hashtags': [], 'symbols': [], 'user_mentions': [{'screen_name': 'Mysticporo', 'name': 'Mysticporo', 'id': 1056363210, 'id_str': '1056363210', 'indices': [0, 11]}, {'screen_name': 'nixcraft', 'name': 'nixCraft', 'id': 17484680, 'id_str': '17484680', 'indices': [12, 21]}], 'urls': [], 'media': [{'id': 1365523185219690498, 'id_str': '1365523185219690498', 'indices': [101, 124], 'media_url': 'http://pbs.twimg.com/media/EvNQGiOUYAIiIaA.jpg', 'media_url_https': 'https://pbs.twimg.com/media/EvNQGiOUYAIiIaA.jpg', 'url': 'https://t.co/Xdujedzhz9', 'display_url': 'pic.twitter.com/Xdujedzhz9', 'expanded_url': 'https://twitter.com/dillir07/status/1365523318573395969/photo/1', 'type': 'photo', 'sizes': {'thumb': {'w': 150, 'h': 150, 'resize': 'crop'}, 'small': {'w': 680, 'h': 486, 'resize': 'fit'}, 'large': {'w': 1233, 'h': 882, 'resize': 'fit'}, 'medium': {'w': 1200, 'h': 858, 'resize': 'fit'}}}]}, 'extended_entities': {'media': [{'id': 1365523185219690498, 'id_str': '1365523185219690498', 'indices': [101, 124], 'media_url': 'http://pbs.twimg.com/media/EvNQGiOUYAIiIaA.jpg', 'media_url_https': 'https://pbs.twimg.com/media/EvNQGiOUYAIiIaA.jpg', 'url': 'https://t.co/Xdujedzhz9', 'display_url': 'pic.twitter.com/Xdujedzhz9', 'expanded_url': 'https://twitter.com/dillir07/status/1365523318573395969/photo/1', 'type': 'photo', 'sizes': {'thumb': {'w': 150, 'h': 150, 'resize': 'crop'}, 'small': {'w': 680, 'h': 486, 'resize': 'fit'}, 'large': {'w': 1233, 'h': 882, 'resize': 'fit'}, 'medium': {'w': 1200, 'h': 858, 'resize': 'fit'}}}]}, 'source': '<a href=\"https://mobile.twitter.com\" rel=\"nofollow\">Twitter Web App</a>', 'in_reply_to_status_id': 1365438244062650369, 'in_reply_to_status_id_str': '1365438244062650369', 'in_reply_to_user_id': 1056363210, 'in_reply_to_user_id_str': '1056363210', 'in_reply_to_screen_name': 'Mysticporo', 'user': {'id': 1627697450, 'id_str': '1627697450', 'name': 'dr', 'screen_name': 'dillir07', 'location': 'India', 'description': 'I count from 0', 'url': None, 'entities': {'description': {'urls': []}}, 'protected': False, 'followers_count': 32, 'friends_count': 88, 'listed_count': 1, 'created_at': 'Sun Jul 28 11:34:21 +0000 2013', 'favourites_count': 753, 'utc_offset': None, 'time_zone': None, 'geo_enabled': True, 'verified': False, 'statuses_count': 150, 'lang': None, 'contributors_enabled': False, 'is_translator': False, 'is_translation_enabled': False, 'profile_background_color': '89C9FA', 'profile_background_image_url': 'http://abs.twimg.com/images/themes/theme16/bg.gif', 'profile_background_image_url_https': 'https://abs.twimg.com/images/themes/theme16/bg.gif', 'profile_background_tile': True, 'profile_image_url': 'http://pbs.twimg.com/profile_images/1357919196089262080/GBi1fIdL_normal.jpg', 'profile_image_url_https': 'https://pbs.twimg.com/profile_images/1357919196089262080/GBi1fIdL_normal.jpg', 'profile_banner_url': 'https://pbs.twimg.com/profile_banners/1627697450/1581185691', 'profile_link_color': '2196F3', 'profile_sidebar_border_color': 'FFFFFF', 'profile_sidebar_fill_color': 'DDEEF6', 'profile_text_color': '333333', 'profile_use_background_image': False, 'has_extended_profile': True, 'default_profile': False, 'default_profile_image': False, 'following': False, 'follow_request_sent': False, 'notifications': False, 'translator_type': 'none'}, 'geo': None, 'coordinates': None, 'place': None, 'contributors': None, 'is_quote_status': False, 'retweet_count': 0, 'favorite_count': 1, 'favorited': False, 'retweeted': False, 'possibly_sensitive': False, 'lang': 'en'}, created_at=datetime.datetime(2021, 2, 27, 4, 45, 4), id=1365523318573395969, id_str='1365523318573395969', text=\"@Mysticporo @nixcraft I don't know the original artist. But I found this, says credit: u/vishwasnath https://t.co/Xdujedzhz9\", truncated=False, entities={'hashtags': [], 'symbols': [], 'user_mentions': [{'screen_name': 'Mysticporo', 'name': 'Mysticporo', 'id': 1056363210, 'id_str': '1056363210', 'indices': [0, 11]}, {'screen_name': 'nixcraft', 'name': 'nixCraft', 'id': 17484680, 'id_str': '17484680', 'indices': [12, 21]}], 'urls': [], 'media': [{'id': 1365523185219690498, 'id_str': '1365523185219690498', 'indices': [101, 124], 'media_url': 'http://pbs.twimg.com/media/EvNQGiOUYAIiIaA.jpg', 'media_url_https': 'https://pbs.twimg.com/media/EvNQGiOUYAIiIaA.jpg', 'url': 'https://t.co/Xdujedzhz9', 'display_url': 'pic.twitter.com/Xdujedzhz9', 'expanded_url': 'https://twitter.com/dillir07/status/1365523318573395969/photo/1', 'type': 'photo', 'sizes': {'thumb': {'w': 150, 'h': 150, 'resize': 'crop'}, 'small': {'w': 680, 'h': 486, 'resize': 'fit'}, 'large': {'w': 1233, 'h': 882, 'resize': 'fit'}, 'medium': {'w': 1200, 'h': 858, 'resize': 'fit'}}}]}, extended_entities={'media': [{'id': 1365523185219690498, 'id_str': '1365523185219690498', 'indices': [101, 124], 'media_url': 'http://pbs.twimg.com/media/EvNQGiOUYAIiIaA.jpg', 'media_url_https': 'https://pbs.twimg.com/media/EvNQGiOUYAIiIaA.jpg', 'url': 'https://t.co/Xdujedzhz9', 'display_url': 'pic.twitter.com/Xdujedzhz9', 'expanded_url': 'https://twitter.com/dillir07/status/1365523318573395969/photo/1', 'type': 'photo', 'sizes': {'thumb': {'w': 150, 'h': 150, 'resize': 'crop'}, 'small': {'w': 680, 'h': 486, 'resize': 'fit'}, 'large': {'w': 1233, 'h': 882, 'resize': 'fit'}, 'medium': {'w': 1200, 'h': 858, 'resize': 'fit'}}}]}, source='Twitter Web App', source_url='https://mobile.twitter.com', in_reply_to_status_id=1365438244062650369, in_reply_to_status_id_str='1365438244062650369', in_reply_to_user_id=1056363210, in_reply_to_user_id_str='1056363210', in_reply_to_screen_name='Mysticporo', author=User(_api=<tweepy.api.API object at 0x7fcf0c27d340>, _json={'id': 1627697450, 'id_str': '1627697450', 'name': 'dr', 'screen_name': 'dillir07', 'location': 'India', 'description': 'I count from 0', 'url': None, 'entities': {'description': {'urls': []}}, 'protected': False, 'followers_count': 32, 'friends_count': 88, 'listed_count': 1, 'created_at': 'Sun Jul 28 11:34:21 +0000 2013', 'favourites_count': 753, 'utc_offset': None, 'time_zone': None, 'geo_enabled': True, 'verified': False, 'statuses_count': 150, 'lang': None, 'contributors_enabled': False, 'is_translator': False, 'is_translation_enabled': False, 'profile_background_color': '89C9FA', 'profile_background_image_url': 'http://abs.twimg.com/images/themes/theme16/bg.gif', 'profile_background_image_url_https': 'https://abs.twimg.com/images/themes/theme16/bg.gif', 'profile_background_tile': True, 'profile_image_url': 'http://pbs.twimg.com/profile_images/1357919196089262080/GBi1fIdL_normal.jpg', 'profile_image_url_https': 'https://pbs.twimg.com/profile_images/1357919196089262080/GBi1fIdL_normal.jpg', 'profile_banner_url': 'https://pbs.twimg.com/profile_banners/1627697450/1581185691', 'profile_link_color': '2196F3', 'profile_sidebar_border_color': 'FFFFFF', 'profile_sidebar_fill_color': 'DDEEF6', 'profile_text_color': '333333', 'profile_use_background_image': False, 'has_extended_profile': True, 'default_profile': False, 'default_profile_image': False, 'following': False, 'follow_request_sent': False, 'notifications': False, 'translator_type': 'none'}, id=1627697450, id_str='1627697450', name='dr', screen_name='dillir07', location='India', description='I count from 0', url=None, entities={'description': {'urls': []}}, protected=False, followers_count=32, friends_count=88, listed_count=1, created_at=datetime.datetime(2013, 7, 28, 11, 34, 21), favourites_count=753, utc_offset=None, time_zone=None, geo_enabled=True, verified=False, statuses_count=150, lang=None, contributors_enabled=False, is_translator=False, is_translation_enabled=False, profile_background_color='89C9FA', profile_background_image_url='http://abs.twimg.com/images/themes/theme16/bg.gif', profile_background_image_url_https='https://abs.twimg.com/images/themes/theme16/bg.gif', profile_background_tile=True, profile_image_url='http://pbs.twimg.com/profile_images/1357919196089262080/GBi1fIdL_normal.jpg', profile_image_url_https='https://pbs.twimg.com/profile_images/1357919196089262080/GBi1fIdL_normal.jpg', profile_banner_url='https://pbs.twimg.com/profile_banners/1627697450/1581185691', profile_link_color='2196F3', profile_sidebar_border_color='FFFFFF', profile_sidebar_fill_color='DDEEF6', profile_text_color='333333', profile_use_background_image=False, has_extended_profile=True, default_profile=False, default_profile_image=False, following=False, follow_request_sent=False, notifications=False, translator_type='none'), user=User(_api=<tweepy.api.API object at 0x7fcf0c27d340>, _json={'id': 1627697450, 'id_str': '1627697450', 'name': 'dr', 'screen_name': 'dillir07', 'location': 'India', 'description': 'I count from 0', 'url': None, 'entities': {'description': {'urls': []}}, 'protected': False, 'followers_count': 32, 'friends_count': 88, 'listed_count': 1, 'created_at': 'Sun Jul 28 11:34:21 +0000 2013', 'favourites_count': 753, 'utc_offset': None, 'time_zone': None, 'geo_enabled': True, 'verified': False, 'statuses_count': 150, 'lang': None, 'contributors_enabled': False, 'is_translator': False, 'is_translation_enabled': False, 'profile_background_color': '89C9FA', 'profile_background_image_url': 'http://abs.twimg.com/images/themes/theme16/bg.gif', 'profile_background_image_url_https': 'https://abs.twimg.com/images/themes/theme16/bg.gif', 'profile_background_tile': True, 'profile_image_url': 'http://pbs.twimg.com/profile_images/1357919196089262080/GBi1fIdL_normal.jpg', 'profile_image_url_https': 'https://pbs.twimg.com/profile_images/1357919196089262080/GBi1fIdL_normal.jpg', 'profile_banner_url': 'https://pbs.twimg.com/profile_banners/1627697450/1581185691', 'profile_link_color': '2196F3', 'profile_sidebar_border_color': 'FFFFFF', 'profile_sidebar_fill_color': 'DDEEF6', 'profile_text_color': '333333', 'profile_use_background_image': False, 'has_extended_profile': True, 'default_profile': False, 'default_profile_image': False, 'following': False, 'follow_request_sent': False, 'notifications': False, 'translator_type': 'none'}, id=1627697450, id_str='1627697450', name='dr', screen_name='dillir07', location='India', description='I count from 0', url=None, entities={'description': {'urls': []}}, protected=False, followers_count=32, friends_count=88, listed_count=1, created_at=datetime.datetime(2013, 7, 28, 11, 34, 21), favourites_count=753, utc_offset=None, time_zone=None, geo_enabled=True, verified=False, statuses_count=150, lang=None, contributors_enabled=False, is_translator=False, is_translation_enabled=False, profile_background_color='89C9FA', profile_background_image_url='http://abs.twimg.com/images/themes/theme16/bg.gif', profile_background_image_url_https='https://abs.twimg.com/images/themes/theme16/bg.gif', profile_background_tile=True, profile_image_url='http://pbs.twimg.com/profile_images/1357919196089262080/GBi1fIdL_normal.jpg', profile_image_url_https='https://pbs.twimg.com/profile_images/1357919196089262080/GBi1fIdL_normal.jpg', profile_banner_url='https://pbs.twimg.com/profile_banners/1627697450/1581185691', profile_link_color='2196F3', profile_sidebar_border_color='FFFFFF', profile_sidebar_fill_color='DDEEF6', profile_text_color='333333', profile_use_background_image=False, has_extended_profile=True, default_profile=False, default_profile_image=False, following=False, follow_request_sent=False, notifications=False, translator_type='none'), geo=None, coordinates=None, place=None, contributors=None, is_quote_status=False, retweet_count=0, favorite_count=1, favorited=False, retweeted=False, possibly_sensitive=False, lang='en')]\n"
     ]
    }
   ],
   "source": [
    "user_timeline = api.user_timeline(\"dillir07\", count=10)\n",
    "pp(user_timeline)"
   ]
  },
  {
   "cell_type": "code",
   "execution_count": 13,
   "metadata": {},
   "outputs": [
    {
     "output_type": "execute_result",
     "data": {
      "text/plain": [
       "User(_api=<tweepy.api.API object at 0x7fcf0c27d340>, _json={'id': 1023991506934419456, 'id_str': '1023991506934419456', 'name': 'JTK', 'screen_name': 'heyJTK', 'location': 'NC', 'profile_location': None, 'description': 'Foulmouthed friend, multithreaded wonder, snark piñata. Sr SW Eng. Loosely typed heathen. Queen tech #unfluencer. Python/SQL/JS. Runs @BadTechTakes_ 🤓💅🏼', 'url': None, 'entities': {'description': {'urls': []}}, 'protected': False, 'followers_count': 2635, 'friends_count': 1735, 'listed_count': 23, 'created_at': 'Mon Jul 30 17:59:34 +0000 2018', 'favourites_count': 48554, 'utc_offset': None, 'time_zone': None, 'geo_enabled': True, 'verified': False, 'statuses_count': 5360, 'lang': None, 'status': {'created_at': 'Mon Mar 22 13:32:44 +0000 2021', 'id': 1373991033168617474, 'id_str': '1373991033168617474', 'text': '@_nitz Don’t think so old one was from Wayfair and is smaller than the new one, doesn’t have a hole for cords, and… https://t.co/65AECRUsd0', 'truncated': True, 'entities': {'hashtags': [], 'symbols': [], 'user_mentions': [{'screen_name': '_nitz', 'name': 'Chris Dailey (cmd) 💖🧚🏻\\u200d♀️', 'id': 17089533, 'id_str': '17089533', 'indices': [0, 6]}], 'urls': [{'url': 'https://t.co/65AECRUsd0', 'expanded_url': 'https://twitter.com/i/web/status/1373991033168617474', 'display_url': 'twitter.com/i/web/status/1…', 'indices': [116, 139]}]}, 'source': '<a href=\"http://twitter.com/download/iphone\" rel=\"nofollow\">Twitter for iPhone</a>', 'in_reply_to_status_id': 1373990767572697095, 'in_reply_to_status_id_str': '1373990767572697095', 'in_reply_to_user_id': 17089533, 'in_reply_to_user_id_str': '17089533', 'in_reply_to_screen_name': '_nitz', 'geo': None, 'coordinates': None, 'place': None, 'contributors': None, 'is_quote_status': False, 'retweet_count': 0, 'favorite_count': 0, 'favorited': False, 'retweeted': False, 'lang': 'en'}, 'contributors_enabled': False, 'is_translator': False, 'is_translation_enabled': False, 'profile_background_color': '000000', 'profile_background_image_url': 'http://abs.twimg.com/images/themes/theme1/bg.png', 'profile_background_image_url_https': 'https://abs.twimg.com/images/themes/theme1/bg.png', 'profile_background_tile': False, 'profile_image_url': 'http://pbs.twimg.com/profile_images/1365322443800403972/1kgfBMNn_normal.jpg', 'profile_image_url_https': 'https://pbs.twimg.com/profile_images/1365322443800403972/1kgfBMNn_normal.jpg', 'profile_banner_url': 'https://pbs.twimg.com/profile_banners/1023991506934419456/1607562676', 'profile_link_color': '7FDBB6', 'profile_sidebar_border_color': '000000', 'profile_sidebar_fill_color': '000000', 'profile_text_color': '000000', 'profile_use_background_image': False, 'has_extended_profile': True, 'default_profile': False, 'default_profile_image': False, 'following': True, 'follow_request_sent': False, 'notifications': False, 'translator_type': 'none'}, id=1023991506934419456, id_str='1023991506934419456', name='JTK', screen_name='heyJTK', location='NC', profile_location=None, description='Foulmouthed friend, multithreaded wonder, snark piñata. Sr SW Eng. Loosely typed heathen. Queen tech #unfluencer. Python/SQL/JS. Runs @BadTechTakes_ 🤓💅🏼', url=None, entities={'description': {'urls': []}}, protected=False, followers_count=2635, friends_count=1735, listed_count=23, created_at=datetime.datetime(2018, 7, 30, 17, 59, 34), favourites_count=48554, utc_offset=None, time_zone=None, geo_enabled=True, verified=False, statuses_count=5360, lang=None, status=Status(_api=<tweepy.api.API object at 0x7fcf0c27d340>, _json={'created_at': 'Mon Mar 22 13:32:44 +0000 2021', 'id': 1373991033168617474, 'id_str': '1373991033168617474', 'text': '@_nitz Don’t think so old one was from Wayfair and is smaller than the new one, doesn’t have a hole for cords, and… https://t.co/65AECRUsd0', 'truncated': True, 'entities': {'hashtags': [], 'symbols': [], 'user_mentions': [{'screen_name': '_nitz', 'name': 'Chris Dailey (cmd) 💖🧚🏻\\u200d♀️', 'id': 17089533, 'id_str': '17089533', 'indices': [0, 6]}], 'urls': [{'url': 'https://t.co/65AECRUsd0', 'expanded_url': 'https://twitter.com/i/web/status/1373991033168617474', 'display_url': 'twitter.com/i/web/status/1…', 'indices': [116, 139]}]}, 'source': '<a href=\"http://twitter.com/download/iphone\" rel=\"nofollow\">Twitter for iPhone</a>', 'in_reply_to_status_id': 1373990767572697095, 'in_reply_to_status_id_str': '1373990767572697095', 'in_reply_to_user_id': 17089533, 'in_reply_to_user_id_str': '17089533', 'in_reply_to_screen_name': '_nitz', 'geo': None, 'coordinates': None, 'place': None, 'contributors': None, 'is_quote_status': False, 'retweet_count': 0, 'favorite_count': 0, 'favorited': False, 'retweeted': False, 'lang': 'en'}, created_at=datetime.datetime(2021, 3, 22, 13, 32, 44), id=1373991033168617474, id_str='1373991033168617474', text='@_nitz Don’t think so old one was from Wayfair and is smaller than the new one, doesn’t have a hole for cords, and… https://t.co/65AECRUsd0', truncated=True, entities={'hashtags': [], 'symbols': [], 'user_mentions': [{'screen_name': '_nitz', 'name': 'Chris Dailey (cmd) 💖🧚🏻\\u200d♀️', 'id': 17089533, 'id_str': '17089533', 'indices': [0, 6]}], 'urls': [{'url': 'https://t.co/65AECRUsd0', 'expanded_url': 'https://twitter.com/i/web/status/1373991033168617474', 'display_url': 'twitter.com/i/web/status/1…', 'indices': [116, 139]}]}, source='Twitter for iPhone', source_url='http://twitter.com/download/iphone', in_reply_to_status_id=1373990767572697095, in_reply_to_status_id_str='1373990767572697095', in_reply_to_user_id=17089533, in_reply_to_user_id_str='17089533', in_reply_to_screen_name='_nitz', geo=None, coordinates=None, place=None, contributors=None, is_quote_status=False, retweet_count=0, favorite_count=0, favorited=False, retweeted=False, lang='en'), contributors_enabled=False, is_translator=False, is_translation_enabled=False, profile_background_color='000000', profile_background_image_url='http://abs.twimg.com/images/themes/theme1/bg.png', profile_background_image_url_https='https://abs.twimg.com/images/themes/theme1/bg.png', profile_background_tile=False, profile_image_url='http://pbs.twimg.com/profile_images/1365322443800403972/1kgfBMNn_normal.jpg', profile_image_url_https='https://pbs.twimg.com/profile_images/1365322443800403972/1kgfBMNn_normal.jpg', profile_banner_url='https://pbs.twimg.com/profile_banners/1023991506934419456/1607562676', profile_link_color='7FDBB6', profile_sidebar_border_color='000000', profile_sidebar_fill_color='000000', profile_text_color='000000', profile_use_background_image=False, has_extended_profile=True, default_profile=False, default_profile_image=False, following=True, follow_request_sent=False, notifications=False, translator_type='none')"
      ]
     },
     "metadata": {},
     "execution_count": 13
    }
   ],
   "source": [
    "api.get_user(\"heyJTK\")"
   ]
  },
  {
   "cell_type": "code",
   "execution_count": 14,
   "metadata": {},
   "outputs": [
    {
     "output_type": "execute_result",
     "data": {
      "text/plain": [
       "['__class__',\n",
       " '__delattr__',\n",
       " '__dict__',\n",
       " '__dir__',\n",
       " '__doc__',\n",
       " '__eq__',\n",
       " '__format__',\n",
       " '__ge__',\n",
       " '__getattribute__',\n",
       " '__getstate__',\n",
       " '__gt__',\n",
       " '__hash__',\n",
       " '__init__',\n",
       " '__init_subclass__',\n",
       " '__le__',\n",
       " '__lt__',\n",
       " '__module__',\n",
       " '__ne__',\n",
       " '__new__',\n",
       " '__reduce__',\n",
       " '__reduce_ex__',\n",
       " '__repr__',\n",
       " '__setattr__',\n",
       " '__sizeof__',\n",
       " '__str__',\n",
       " '__subclasshook__',\n",
       " '__weakref__',\n",
       " '_api',\n",
       " '_json',\n",
       " 'contributors_enabled',\n",
       " 'created_at',\n",
       " 'default_profile',\n",
       " 'default_profile_image',\n",
       " 'description',\n",
       " 'entities',\n",
       " 'favourites_count',\n",
       " 'follow',\n",
       " 'follow_request_sent',\n",
       " 'followers',\n",
       " 'followers_count',\n",
       " 'followers_ids',\n",
       " 'following',\n",
       " 'friends',\n",
       " 'friends_count',\n",
       " 'geo_enabled',\n",
       " 'has_extended_profile',\n",
       " 'id',\n",
       " 'id_str',\n",
       " 'is_translation_enabled',\n",
       " 'is_translator',\n",
       " 'lang',\n",
       " 'listed_count',\n",
       " 'lists',\n",
       " 'lists_memberships',\n",
       " 'lists_subscriptions',\n",
       " 'location',\n",
       " 'name',\n",
       " 'notifications',\n",
       " 'parse',\n",
       " 'parse_list',\n",
       " 'profile_background_color',\n",
       " 'profile_background_image_url',\n",
       " 'profile_background_image_url_https',\n",
       " 'profile_background_tile',\n",
       " 'profile_banner_url',\n",
       " 'profile_image_url',\n",
       " 'profile_image_url_https',\n",
       " 'profile_link_color',\n",
       " 'profile_sidebar_border_color',\n",
       " 'profile_sidebar_fill_color',\n",
       " 'profile_text_color',\n",
       " 'profile_use_background_image',\n",
       " 'protected',\n",
       " 'screen_name',\n",
       " 'status',\n",
       " 'statuses_count',\n",
       " 'time_zone',\n",
       " 'timeline',\n",
       " 'translator_type',\n",
       " 'unfollow',\n",
       " 'url',\n",
       " 'utc_offset',\n",
       " 'verified']"
      ]
     },
     "metadata": {},
     "execution_count": 14
    }
   ],
   "source": [
    "dir(api.search_users(\"elon\",1)[0])"
   ]
  },
  {
   "cell_type": "code",
   "execution_count": 17,
   "metadata": {},
   "outputs": [],
   "source": [
    "def get_tweets(query, count = 300, lang=\"en\"):\n",
    "\n",
    "    # empty list to store parsed tweets\n",
    "    tweets = []\n",
    "    fetched_tweets = api.search(query, count = count, lang=lang, result_type=\"recent\")\n",
    "    # parsing tweets one by one\n",
    "    print(\"got\", len(fetched_tweets), \" tweets\")\n",
    "    for tweet in fetched_tweets:\n",
    "        tweets.append(tweet.text)\n",
    "    return tweets"
   ]
  },
  {
   "cell_type": "code",
   "execution_count": 18,
   "metadata": {
    "tags": []
   },
   "outputs": [
    {
     "output_type": "stream",
     "name": "stdout",
     "text": [
      "got 30  tweets\n['RT @DeanObeidallah: We are now watching some in the media slowly elevate '\n 'Donald Trump again because to them Joe Biden is boring (translatio…',\n 'RT @RepVernonJones: I’m looking closely at Georgia’s race for Governor. \\n'\n '\\n'\n 'If it weren’t for Brian Kemp, Donald Trump would still be Preside…',\n 'RT @RepVernonJones: I’m looking closely at Georgia’s race for Governor. \\n'\n '\\n'\n 'If it weren’t for Brian Kemp, Donald Trump would still be Preside…',\n 'RT @RepVernonJones: I’m looking closely at Georgia’s race for Governor. \\n'\n '\\n'\n 'If it weren’t for Brian Kemp, Donald Trump would still be Preside…',\n \"@JonGargis @EWErickson @wsbtv Apparently you don't pay attention \"\n 'https://t.co/WAXJjMJTgY',\n 'RT @robreiner: Donald Trump can be very proud of his great accomplishment. '\n 'Looks like the insurrectionists he led to overthrow our Governme…',\n 'RT @PalmerReport: Donald Trump doesn’t have the money, competence, or work '\n 'ethic required to launch a social network. It’s more likely he’l…',\n 'RT @newsmax: Donald Trump plans to launch his own new social media platform '\n 'in the coming months, Jason Miller reports https://t.co/DBtJrxq…',\n 'RT @Grahmptr: Antrim County , Michigan  after it was discovered that an '\n '“error” “flipped” 6,000 votes for President Donald Trump to Democra…',\n 'RT @donwinslow: Dear Trumpers,\\n'\n '\\n'\n 'If #COVID19 is a hoax, why did Donald Trump feel the need for the VACCINE?\\n'\n '\\n'\n 'Why did he feel it was necessar…',\n '@SocialistMMA Ppl that crawl in my mentions making excuses for donald '\n \"trump's illegal bombings. Imagine if another… https://t.co/aNQ3Qhf8iW\",\n \"Trump said the 'couple page' letter he left Biden was 'from the heart' \"\n 'https://t.co/ZYsCIOQF4E via @MailOnline',\n '@kylegriffin1 Donald Trump is the leader of white supremacist terrorists in '\n 'America. AG Garland must prosecute Dona… https://t.co/0qGanmoyR5',\n 'You know what you should’ve told Donald Trump and his Crime Family of '\n 'Grifters that instead of funneling millions a… https://t.co/AwgljknIp3',\n 'RT @instablog9ja: It will completely redefine the game -- Donald Trump has '\n \"announced that he's returning to social media in a few months wi…\",\n '@Taco_LocoFoSho @amyklobuchar  Thanks to Donald Trump!!!!',\n 'Donald Trump coming out with his own social media platform is literally the '\n 'worst idea out there🙃',\n 'RT @robreiner: You can not separate the Seditionists from the leader of the '\n 'Sedition. If Donald Trump doesn’t call his followers to DC on J…',\n 'https://t.co/8evXaH4PnK via @Yahoo felt like puking listening to the '\n 'dog&amp;pony circus act of dems talking about hate… https://t.co/y75wLp5pBX',\n 'RT @RepVernonJones: I’m looking closely at Georgia’s race for Governor. \\n'\n '\\n'\n 'If it weren’t for Brian Kemp, Donald Trump would still be Preside…',\n 'RT @dcexaminer: \"Murkowski\\'s bad news, a guy like Ben Sasse, I mean, little '\n 'Ben Sasse, he\\'s a disaster for the party.\"\\n'\n '\\n'\n 'Former President Do…',\n 'RT @RetireMarco: Marco Rubio was too afraid to stand up to Donald Trump, and '\n 'now he’s terrified of Ron DeSantis.\\n'\n '\\n'\n 'We need a Senator with a…',\n 'RT @JennaEllisEsq: INBOX: Statement from President Donald J. Trump '\n 'https://t.co/9YWDMd42N1',\n 'RT @P8R1OT: Donald Trump is planning to release a new social media platform '\n 'in 2-3 months...\\n'\n '\\n'\n 'RT if you’re gonna ditch Twitt@r...',\n 'RT @donwinslow: Dear Trumpers,\\n'\n '\\n'\n 'If #COVID19 is a hoax, why did Donald Trump feel the need for the VACCINE?\\n'\n '\\n'\n 'Why did he feel it was necessar…',\n 'RT @Newsweek: Donald Trump says Mitch McConnell \"hanging by a thread,\" warns '\n 'Republicans on endorsement https://t.co/1cCI0mXUiD',\n 'RT @MZHemingway: Former President Donald Trump endorses Jody Hice for '\n 'Georgia Secretary of State. https://t.co/fUABqieleQ',\n 'RT @RepVernonJones: I’m looking closely at Georgia’s race for Governor. \\n'\n '\\n'\n 'If it weren’t for Brian Kemp, Donald Trump would still be Preside…',\n '@BillyBaldwin GOP/GQP:  Covid is a hoax, it’s not that bad, it’s only a '\n 'flu. \\n'\n '\\n'\n 'GOP/GQP: ALL congressional members j… https://t.co/OMTGEWqi6h',\n \"RT @GeorgeTakei: One of Donald's deplorables.\\nhttps://t.co/Sz5J6jaaDk\"]\n"
     ]
    }
   ],
   "source": [
    "pp(get_tweets(query=\"Donald Trump\", count = 30, lang=\"en\"))"
   ]
  }
 ]
}